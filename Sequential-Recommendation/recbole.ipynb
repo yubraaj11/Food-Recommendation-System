{
 "cells": [
  {
   "cell_type": "code",
   "execution_count": 1,
   "metadata": {},
   "outputs": [
    {
     "name": "stderr",
     "output_type": "stream",
     "text": [
      "c:\\Users\\yubra\\anaconda3\\envs\\rec\\lib\\site-packages\\tqdm\\auto.py:21: TqdmWarning: IProgress not found. Please update jupyter and ipywidgets. See https://ipywidgets.readthedocs.io/en/stable/user_install.html\n",
      "  from .autonotebook import tqdm as notebook_tqdm\n"
     ]
    }
   ],
   "source": [
    "from recbole.quick_start import run_recbole\n",
    "from recbole.config import Config\n",
    "from recbole.data import create_dataset, data_preparation\n",
    "from recbole.utils import init_logger, init_seed\n",
    "from logging import getLogger\n",
    "from recbole.model.sequential_recommender import NextItNet\n",
    "from recbole.trainer import Trainer"
   ]
  },
  {
   "cell_type": "code",
   "execution_count": 4,
   "metadata": {},
   "outputs": [],
   "source": [
    "parameter_dict = {\n",
    "    # environment config : Sequential Recommendation\n",
    "'data_path': \"data1/\",\n",
    "'checkpoint_dir': \"saved\",\n",
    "'reproducibility':' False',\n",
    "'show_progress': 'True',\n",
    "# dataset config : Sequential Recommendation\n",
    "'USER_ID_FIELD': 'user_id',\n",
    "'ITEM_ID_FIELD': 'item_id',\n",
    "'TIME_FIELD': 'timestamp',\n",
    "'load_col':\n",
    "    {'inter': ['user_id', 'item_id','timestamp']},\n",
    "'ITEM_LIST_LENGTH_FIELD': 'item_length',\n",
    "'LIST_SUFFIX': '_list',\n",
    "'MAX_ITEM_LIST_LENGTH': 50,\n",
    "'train_neg_sample_args': 'None',\n",
    "\n",
    "# training and evaluation config : Sequential Recommendation\n",
    "'epochs': 2,\n",
    "'train_batch_size': 2048,\n",
    "'eval_batch_size': 2048,\n",
    "'learner': 'adam',\n",
    "'eval_args': {\n",
    "    'group_by': 'user',\n",
    "    'order': 'TO',\n",
    "    'split': {'LS': 'valid_and_test'},\n",
    "    'mode': 'full',\n",
    "},\n",
    "'metrics': ['Recall', 'MRR', 'NDCG', 'Hit', 'Precision'],\n",
    "'topk': 10,\n",
    "'valid_metric': 'MRR@10',\n",
    "'metric_decimal_place': 4\n",
    "}"
   ]
  },
  {
   "cell_type": "code",
   "execution_count": 5,
   "metadata": {},
   "outputs": [
    {
     "name": "stderr",
     "output_type": "stream",
     "text": [
      "13 Jul 14:03    INFO  \n",
      "General Hyper Parameters:\n",
      "gpu_id = 0\n",
      "use_gpu = True\n",
      "seed = 2020\n"
     ]
    },
    {
     "name": "stderr",
     "output_type": "stream",
     "text": [
      "state = INFO\n",
      "reproducibility = False\n",
      "data_path = data1/dataset\n",
      "checkpoint_dir = saved\n",
      "show_progress = True\n",
      "save_dataset = False\n",
      "dataset_save_path = None\n",
      "save_dataloaders = False\n",
      "dataloaders_save_path = None\n",
      "log_wandb = False\n",
      "\n",
      "Training Hyper Parameters:\n",
      "epochs = 2\n",
      "train_batch_size = 2048\n",
      "learner = adam\n",
      "learning_rate = 0.001\n",
      "train_neg_sample_args = {'distribution': 'none', 'sample_num': 'none', 'alpha': 'none', 'dynamic': False, 'candidate_num': 0}\n",
      "eval_step = 1\n",
      "stopping_step = 10\n",
      "clip_grad_norm = None\n",
      "weight_decay = 0.0\n",
      "loss_decimal_place = 4\n",
      "\n",
      "Evaluation Hyper Parameters:\n",
      "eval_args = {'group_by': 'user', 'order': 'TO', 'split': {'LS': 'valid_and_test'}, 'mode': 'full'}\n",
      "repeatable = True\n",
      "metrics = ['Recall', 'MRR', 'NDCG', 'Hit', 'Precision']\n",
      "topk = [10]\n",
      "valid_metric = MRR@10\n",
      "valid_metric_bigger = True\n",
      "eval_batch_size = 2048\n",
      "metric_decimal_place = 4\n",
      "\n",
      "Dataset Hyper Parameters:\n",
      "field_separator = \t\n",
      "seq_separator =  \n",
      "USER_ID_FIELD = user_id\n",
      "ITEM_ID_FIELD = item_id\n",
      "RATING_FIELD = rating\n",
      "TIME_FIELD = timestamp\n",
      "seq_len = None\n",
      "LABEL_FIELD = label\n",
      "threshold = None\n",
      "NEG_PREFIX = neg_\n",
      "load_col = {'inter': ['user_id', 'item_id', 'timestamp']}\n",
      "unload_col = None\n",
      "unused_col = None\n",
      "additional_feat_suffix = None\n",
      "rm_dup_inter = None\n",
      "val_interval = None\n",
      "filter_inter_by_user_or_item = True\n",
      "user_inter_num_interval = [0,inf)\n",
      "item_inter_num_interval = [0,inf)\n",
      "alias_of_user_id = None\n",
      "alias_of_item_id = None\n",
      "alias_of_entity_id = None\n",
      "alias_of_relation_id = None\n",
      "preload_weight = None\n",
      "normalize_field = None\n",
      "normalize_all = None\n",
      "ITEM_LIST_LENGTH_FIELD = item_length\n",
      "LIST_SUFFIX = _list\n",
      "MAX_ITEM_LIST_LENGTH = 50\n",
      "POSITION_FIELD = position_id\n",
      "HEAD_ENTITY_ID_FIELD = head_id\n",
      "TAIL_ENTITY_ID_FIELD = tail_id\n",
      "RELATION_ID_FIELD = relation_id\n",
      "ENTITY_ID_FIELD = entity_id\n",
      "benchmark_filename = None\n",
      "\n",
      "Other Hyper Parameters: \n",
      "worker = 0\n",
      "wandb_project = recbole\n",
      "shuffle = True\n",
      "require_pow = False\n",
      "enable_amp = False\n",
      "enable_scaler = False\n",
      "transform = None\n",
      "embedding_size = 64\n",
      "kernel_size = 3\n",
      "block_num = 5\n",
      "dilations = [1, 4]\n",
      "reg_weight = 1e-05\n",
      "loss_type = CE\n",
      "numerical_features = []\n",
      "discretization = None\n",
      "kg_reverse_r = False\n",
      "entity_kg_num_interval = [0,inf)\n",
      "relation_kg_num_interval = [0,inf)\n",
      "MODEL_TYPE = ModelType.SEQUENTIAL\n",
      "MODEL_INPUT_TYPE = InputType.POINTWISE\n",
      "eval_type = EvaluatorType.RANKING\n",
      "single_spec = True\n",
      "local_rank = 0\n",
      "device = cpu\n",
      "eval_neg_sample_args = {'distribution': 'uniform', 'sample_num': 'none'}\n",
      "\n",
      "\n"
     ]
    }
   ],
   "source": [
    "config = Config(model='NextItNet',\n",
    "                    dataset='dataset',\n",
    "                    config_dict=parameter_dict)\n",
    "\n",
    "\n",
    "\n",
    "init_seed(config['seed'], config['reproducibility'])\n",
    "\n",
    "\n",
    "init_logger(config)\n",
    "logger = getLogger()\n",
    "\n",
    "\n",
    "logger.info(config)"
   ]
  },
  {
   "cell_type": "code",
   "execution_count": 12,
   "metadata": {},
   "outputs": [
    {
     "name": "stderr",
     "output_type": "stream",
     "text": [
      "13 Jul 14:26    INFO  dataset\n",
      "The number of users: 85871\n",
      "Average actions of users: 3.7697100267846744\n",
      "The number of items: 2966\n",
      "Average actions of items: 109.17537942664418\n",
      "The number of inters: 323705\n",
      "The sparsity of the dataset: 99.87290404156785%\n",
      "Remain Fields: ['user_id', 'item_id', 'timestamp']\n"
     ]
    }
   ],
   "source": [
    "dataset = create_dataset(config)\n",
    "logger.info(dataset)"
   ]
  },
  {
   "cell_type": "code",
   "execution_count": 13,
   "metadata": {},
   "outputs": [
    {
     "name": "stderr",
     "output_type": "stream",
     "text": [
      "13 Jul 14:26    INFO  [Training]: train_batch_size = [2048] train_neg_sample_args: [{'distribution': 'none', 'sample_num': 'none', 'alpha': 'none', 'dynamic': False, 'candidate_num': 0}]\n",
      "13 Jul 14:26    INFO  [Evaluation]: eval_batch_size = [2048] eval_args: [{'group_by': 'user', 'order': 'TO', 'split': {'LS': 'valid_and_test'}, 'mode': 'full'}]\n"
     ]
    }
   ],
   "source": [
    "train_data, valid_data, test_data = data_preparation(config, dataset)"
   ]
  },
  {
   "cell_type": "code",
   "execution_count": 14,
   "metadata": {},
   "outputs": [
    {
     "name": "stderr",
     "output_type": "stream",
     "text": [
      "13 Jul 14:27    INFO  NextItNet(\n",
      "  (item_embedding): Embedding(2966, 64, padding_idx=0)\n",
      "  (residual_blocks): Sequential(\n",
      "    (0): ResidualBlock_b(\n",
      "      (conv1): Conv2d(64, 64, kernel_size=(1, 3), stride=(1, 1))\n",
      "      (ln1): LayerNorm((64,), eps=1e-08, elementwise_affine=True)\n",
      "      (conv2): Conv2d(64, 64, kernel_size=(1, 3), stride=(1, 1), dilation=(2, 2))\n",
      "      (ln2): LayerNorm((64,), eps=1e-08, elementwise_affine=True)\n",
      "    )\n",
      "    (1): ResidualBlock_b(\n",
      "      (conv1): Conv2d(64, 64, kernel_size=(1, 3), stride=(1, 1), dilation=(4, 4))\n",
      "      (ln1): LayerNorm((64,), eps=1e-08, elementwise_affine=True)\n",
      "      (conv2): Conv2d(64, 64, kernel_size=(1, 3), stride=(1, 1), dilation=(8, 8))\n",
      "      (ln2): LayerNorm((64,), eps=1e-08, elementwise_affine=True)\n",
      "    )\n",
      "    (2): ResidualBlock_b(\n",
      "      (conv1): Conv2d(64, 64, kernel_size=(1, 3), stride=(1, 1))\n",
      "      (ln1): LayerNorm((64,), eps=1e-08, elementwise_affine=True)\n",
      "      (conv2): Conv2d(64, 64, kernel_size=(1, 3), stride=(1, 1), dilation=(2, 2))\n",
      "      (ln2): LayerNorm((64,), eps=1e-08, elementwise_affine=True)\n",
      "    )\n",
      "    (3): ResidualBlock_b(\n",
      "      (conv1): Conv2d(64, 64, kernel_size=(1, 3), stride=(1, 1), dilation=(4, 4))\n",
      "      (ln1): LayerNorm((64,), eps=1e-08, elementwise_affine=True)\n",
      "      (conv2): Conv2d(64, 64, kernel_size=(1, 3), stride=(1, 1), dilation=(8, 8))\n",
      "      (ln2): LayerNorm((64,), eps=1e-08, elementwise_affine=True)\n",
      "    )\n",
      "    (4): ResidualBlock_b(\n",
      "      (conv1): Conv2d(64, 64, kernel_size=(1, 3), stride=(1, 1))\n",
      "      (ln1): LayerNorm((64,), eps=1e-08, elementwise_affine=True)\n",
      "      (conv2): Conv2d(64, 64, kernel_size=(1, 3), stride=(1, 1), dilation=(2, 2))\n",
      "      (ln2): LayerNorm((64,), eps=1e-08, elementwise_affine=True)\n",
      "    )\n",
      "    (5): ResidualBlock_b(\n",
      "      (conv1): Conv2d(64, 64, kernel_size=(1, 3), stride=(1, 1), dilation=(4, 4))\n",
      "      (ln1): LayerNorm((64,), eps=1e-08, elementwise_affine=True)\n",
      "      (conv2): Conv2d(64, 64, kernel_size=(1, 3), stride=(1, 1), dilation=(8, 8))\n",
      "      (ln2): LayerNorm((64,), eps=1e-08, elementwise_affine=True)\n",
      "    )\n",
      "    (6): ResidualBlock_b(\n",
      "      (conv1): Conv2d(64, 64, kernel_size=(1, 3), stride=(1, 1))\n",
      "      (ln1): LayerNorm((64,), eps=1e-08, elementwise_affine=True)\n",
      "      (conv2): Conv2d(64, 64, kernel_size=(1, 3), stride=(1, 1), dilation=(2, 2))\n",
      "      (ln2): LayerNorm((64,), eps=1e-08, elementwise_affine=True)\n",
      "    )\n",
      "    (7): ResidualBlock_b(\n",
      "      (conv1): Conv2d(64, 64, kernel_size=(1, 3), stride=(1, 1), dilation=(4, 4))\n",
      "      (ln1): LayerNorm((64,), eps=1e-08, elementwise_affine=True)\n",
      "      (conv2): Conv2d(64, 64, kernel_size=(1, 3), stride=(1, 1), dilation=(8, 8))\n",
      "      (ln2): LayerNorm((64,), eps=1e-08, elementwise_affine=True)\n",
      "    )\n",
      "    (8): ResidualBlock_b(\n",
      "      (conv1): Conv2d(64, 64, kernel_size=(1, 3), stride=(1, 1))\n",
      "      (ln1): LayerNorm((64,), eps=1e-08, elementwise_affine=True)\n",
      "      (conv2): Conv2d(64, 64, kernel_size=(1, 3), stride=(1, 1), dilation=(2, 2))\n",
      "      (ln2): LayerNorm((64,), eps=1e-08, elementwise_affine=True)\n",
      "    )\n",
      "    (9): ResidualBlock_b(\n",
      "      (conv1): Conv2d(64, 64, kernel_size=(1, 3), stride=(1, 1), dilation=(4, 4))\n",
      "      (ln1): LayerNorm((64,), eps=1e-08, elementwise_affine=True)\n",
      "      (conv2): Conv2d(64, 64, kernel_size=(1, 3), stride=(1, 1), dilation=(8, 8))\n",
      "      (ln2): LayerNorm((64,), eps=1e-08, elementwise_affine=True)\n",
      "    )\n",
      "  )\n",
      "  (final_layer): Linear(in_features=64, out_features=64, bias=True)\n",
      "  (loss_fct): CrossEntropyLoss()\n",
      "  (reg_loss): RegLoss()\n",
      ")\n",
      "Trainable parameters: 443584\n"
     ]
    }
   ],
   "source": [
    "model = NextItNet(config, train_data.dataset)\n",
    "logger.info(model)"
   ]
  },
  {
   "cell_type": "code",
   "execution_count": 15,
   "metadata": {},
   "outputs": [
    {
     "name": "stderr",
     "output_type": "stream",
     "text": [
      "13 Jul 14:33    INFO  epoch 0 training [time: 333.84s, train loss: 404.7268]\n",
      "13 Jul 14:33    INFO  Saving current: saved\\NextItNet-Jul-13-2023_14-27-49.pth\n",
      "13 Jul 14:39    INFO  epoch 1 training [time: 355.32s, train loss: 399.3483]\n",
      "13 Jul 14:39    INFO  Saving current: saved\\NextItNet-Jul-13-2023_14-27-49.pth\n"
     ]
    }
   ],
   "source": [
    "trainer = Trainer(config, model)\n",
    "best_valid_score, best_valid_result = trainer.fit(train_data)"
   ]
  },
  {
   "cell_type": "code",
   "execution_count": null,
   "metadata": {},
   "outputs": [],
   "source": []
  }
 ],
 "metadata": {
  "kernelspec": {
   "display_name": "rec",
   "language": "python",
   "name": "python3"
  },
  "language_info": {
   "codemirror_mode": {
    "name": "ipython",
    "version": 3
   },
   "file_extension": ".py",
   "mimetype": "text/x-python",
   "name": "python",
   "nbconvert_exporter": "python",
   "pygments_lexer": "ipython3",
   "version": "3.9.0"
  },
  "orig_nbformat": 4
 },
 "nbformat": 4,
 "nbformat_minor": 2
}
