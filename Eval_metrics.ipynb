{
 "cells": [
  {
   "cell_type": "code",
   "execution_count": 8,
   "metadata": {},
   "outputs": [
    {
     "name": "stdout",
     "output_type": "stream",
     "text": [
      "{3, 4}\n",
      "{3, 4}\n",
      "Precision@4: 0.5\n",
      "Recall@4: 0.4\n"
     ]
    }
   ],
   "source": [
    "def precision_at_k(recommended_items, ground_truth_items, k):\n",
    "    recommended_k = recommended_items[:k]\n",
    "    relevant_items = set(recommended_k) & set(ground_truth_items)\n",
    "    print(relevant_items)\n",
    "    precision = len(relevant_items) / float(k)\n",
    "    return precision\n",
    "\n",
    "def recall_at_k(recommended_items, ground_truth_items, k):\n",
    "    recommended_k = recommended_items[:k]\n",
    "    relevant_items = set(recommended_k) & set(ground_truth_items)\n",
    "    print(relevant_items)\n",
    "    recall = len(relevant_items) / float(len(ground_truth_items))\n",
    "    return recall\n",
    "\n",
    "# Example usage:\n",
    "recommended_items = [1, 2, 3, 4, 5]\n",
    "ground_truth_items = [3, 4, 5, 6, 7]\n",
    "k = 4\n",
    "\n",
    "precision = precision_at_k(recommended_items, ground_truth_items, k)\n",
    "recall = recall_at_k(recommended_items, ground_truth_items, k)\n",
    "\n",
    "print(f\"Precision@{k}: {precision}\")\n",
    "print(f\"Recall@{k}: {recall}\")\n"
   ]
  },
  {
   "cell_type": "code",
   "execution_count": 9,
   "metadata": {},
   "outputs": [
    {
     "name": "stdout",
     "output_type": "stream",
     "text": [
      "{3, 4, 5}\n",
      "MAP@5: 0.2866666666666666\n",
      "Hit Rate@5: 0.6\n",
      "NDCG@5: 0.4468535299918563\n",
      "Item Coverage@5: 0.7142857142857143\n"
     ]
    }
   ],
   "source": [
    "import math\n",
    "from math import log2\n",
    "\n",
    "def average_precision_at_k(recommended_items, ground_truth_items, k):\n",
    "    relevant_items = set(ground_truth_items)\n",
    "    precision_sum = 0.0\n",
    "    num_hits = 0\n",
    "\n",
    "    for i in range(k):\n",
    "        item = recommended_items[i]\n",
    "        if item in relevant_items:\n",
    "            num_hits += 1\n",
    "            precision = num_hits / float(i + 1)\n",
    "            precision_sum += precision\n",
    "\n",
    "    average_precision = precision_sum / min(len(relevant_items), k)\n",
    "    return average_precision\n",
    "\n",
    "def hit_rate_at_k(recommended_items, ground_truth_items, k):\n",
    "    recommended_k = recommended_items[:k]\n",
    "    hits = set(recommended_k) & set(ground_truth_items)\n",
    "    print(hits)\n",
    "    hit_rate = len(hits) / float(len(ground_truth_items))\n",
    "    return hit_rate\n",
    "\n",
    "def ndcg_at_k(recommended_items, ground_truth_items, k):\n",
    "    dcg = 0.0\n",
    "    idcg = 0.0\n",
    "\n",
    "    for i in range(k):\n",
    "        item = recommended_items[i]\n",
    "        if item in ground_truth_items:\n",
    "            relevance = 1.0 / log2(i + 2)\n",
    "            dcg += relevance\n",
    "        idcg += 1.0 / log2(i + 2)\n",
    "\n",
    "    ndcg = dcg / idcg\n",
    "    return ndcg\n",
    "\n",
    "def item_coverage_at_k(recommended_items, unique_items, k):\n",
    "    recommended_k = recommended_items[:k]\n",
    "    coverage = len(set(recommended_k)) / float(len(unique_items))\n",
    "    return coverage\n",
    "\n",
    "# Example usage:\n",
    "recommended_items = [1, 2, 3, 4, 5]\n",
    "ground_truth_items = [3, 4, 5, 6, 7]\n",
    "unique_items = [1, 2, 3, 4, 5, 6, 7]\n",
    "k = 5\n",
    "\n",
    "map_at_k = average_precision_at_k(recommended_items, ground_truth_items, k)\n",
    "hit_rate = hit_rate_at_k(recommended_items, ground_truth_items, k)\n",
    "ndcg = ndcg_at_k(recommended_items, ground_truth_items, k)\n",
    "item_coverage = item_coverage_at_k(recommended_items, unique_items, k)\n",
    "\n",
    "print(f\"MAP@{k}: {map_at_k}\")\n",
    "print(f\"Hit Rate@{k}: {hit_rate}\")\n",
    "print(f\"NDCG@{k}: {ndcg}\")\n",
    "print(f\"Item Coverage@{k}: {item_coverage}\")\n"
   ]
  },
  {
   "cell_type": "code",
   "execution_count": null,
   "metadata": {},
   "outputs": [],
   "source": []
  }
 ],
 "metadata": {
  "kernelspec": {
   "display_name": "rec",
   "language": "python",
   "name": "python3"
  },
  "language_info": {
   "codemirror_mode": {
    "name": "ipython",
    "version": 3
   },
   "file_extension": ".py",
   "mimetype": "text/x-python",
   "name": "python",
   "nbconvert_exporter": "python",
   "pygments_lexer": "ipython3",
   "version": "3.9.0"
  },
  "orig_nbformat": 4
 },
 "nbformat": 4,
 "nbformat_minor": 2
}
